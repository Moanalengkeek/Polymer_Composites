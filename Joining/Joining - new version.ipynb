{
 "cells": [
  {
   "cell_type": "markdown",
   "metadata": {},
   "source": [
    "## Joining Methods (25 points)"
   ]
  },
  {
   "cell_type": "code",
   "execution_count": 1,
   "metadata": {},
   "outputs": [],
   "source": [
    "#import packages here\n",
    "import numpy as np\n",
    "from scipy.integrate import quad\n",
    "import matplotlib.pyplot as plt"
   ]
  },
  {
   "cell_type": "markdown",
   "metadata": {},
   "source": [
    "#### As was explained during the lectures, engineering design of joints should take into consideration pros and cons of each joining method, applied to the specific case we are trying to explore.\n",
    "#### Many factors are monitored as design criteria, such as: needed shear strength, necessity for removal to perform inspection and maintenance, lightweight design requirements, possible stress concentrations, desired failure modes, etc.\n",
    "#### Overall, understanding the joining of reinforced polymers is essential to obtain proper structural integrity and sufficient service life. Therefore, several aspects of joining methods will be considered and analysed in this notebook, specifically regarding bonded joints and thermoplastic composites (TPC) joining.\n"
   ]
  },
  {
   "cell_type": "markdown",
   "metadata": {},
   "source": [
    "#### NOTE\n",
    "#### For the following questions it is essential for you to keep in mind the two main models you will be considering to evaluate peak shear stresses in bonded joints (Klein, B., Gänsicke, T. (2019). Fügetechniken. In: Leichtbau-Konstruktion. Springer Vieweg, Wiesbaden. https://doi.org/10.1007/978-3-658-26846-6_22):\n",
    "#### Klein model:\n",
    " $$\\tau(x)  = \\frac{\\omega \\cdot \\tau_{m}}{(\\beta+2) \\cdot (cosh \\omega -1)} \\cdot [sinh(\\omega(1-\\frac{x}{l_{u}})) + (\\beta + 1) \\cdot sinh(\\omega \\cdot \\frac{x}{l_{u}})] $$\n",
    "$$\\omega  =  \\sqrt \\frac{G_{Kl} \\cdot (E1 \\cdot t1 + E2 \\cdot t2) \\cdot l_{u}^{2} }{E1 \\cdot t1 \\cdot E2 \\cdot t2 \\cdot d}  $$\n",
    "$$\\beta  =  \\sqrt \\frac{G_{Kl} \\cdot (E2 \\cdot t2 - E1 \\cdot t1) \\cdot l_{u}^{2} }{E1 \\cdot t1 \\cdot (G_{Kl} \\cdot l_{u}^{2} + E2 \\cdot t2 \\cdot d) }  $$\n",
    "Where:\n",
    "$\\tau_{m}$ = average shear stess\n",
    "$E1$, $E2$ = adherends' Young's moduli \n",
    "$t1$, $t2$ = adherends' thicknesses\n",
    "$ l_{u}$ = overlap length\n",
    "$G_{Kl}$ = adhesive shear modulus\n",
    "$d$ = adhesive thickness\n",
    "####  Volkersen model for the adhesive peak shear:\n",
    " $$\\tau_{Kmax}  = \\frac{F_{10}}{b} \\cdot \\sqrt{\\frac{1}{2} \\cdot \\frac{1}{E \\cdot t} \\cdot \\frac{G_{K}}{t_{K}}}  $$\n",
    " Where:\n",
    " $F_{10}$ = applied tensile load\n",
    " $b$ = overlap length\n",
    " $E$ = adherends' Young's modulus\n",
    " $t$ =  adherends' thickness\n",
    " $G_{K}$ = adhesive shear modulus\n",
    " $t_{K}$ = adhesive thickness"
   ]
  },
  {
   "cell_type": "markdown",
   "metadata": {},
   "source": [
    "### Question 1 (5 points)\n",
    "\n",
    "#### Question 1.1: Two carbon fibre reinforced composite parts are to be adhesively bonded, as shown in the figure below. The following information is provided: Adherends' Young's modulus = 70 GPa, adherends' thickness = 2 mm, adherends' width = 20 mm, adhesive shear modulus = 2.0 GPa, adhesive thickness = 0.3 mm, overlap length = 30 mm. The bonded part will be subjected to a tensile load of 50 kN.\n",
    "\n",
    "#### - In the lecture you learned about the shear-stress distribution of such a joint. Plot the shear stress distribution over the lap joint for several overlap lengths (including at least: 10, 15, 20, 30, and 50 mm) according to the Klein model. Comment on the results.\n",
    "\n",
    "#### - Then, repeat the exercise using the Volkersen model instead. What are the most notable differences?"
   ]
  },
  {
   "cell_type": "markdown",
   "metadata": {},
   "source": [
    "![title](lapjoint.png)"
   ]
  },
  {
   "cell_type": "code",
   "execution_count": 2,
   "metadata": {},
   "outputs": [],
   "source": []
  },
  {
   "cell_type": "markdown",
   "metadata": {},
   "source": [
    "Comments: \n",
    "\n"
   ]
  },
  {
   "cell_type": "code",
   "execution_count": 2,
   "metadata": {},
   "outputs": [],
   "source": []
  },
  {
   "cell_type": "markdown",
   "metadata": {},
   "source": []
  },
  {
   "cell_type": "markdown",
   "metadata": {},
   "source": [
    "#### Question 1.2: Show how the stress distribution changes when the thickness of the bottom adherend increases to 3mm and 4mm. Create a plot. Why can you expect these shapes of the curves? Answer in the textbox below your plot. Use the Klein model."
   ]
  },
  {
   "cell_type": "code",
   "execution_count": 2,
   "metadata": {},
   "outputs": [],
   "source": []
  },
  {
   "cell_type": "markdown",
   "metadata": {},
   "source": [
    "Answer:\n",
    "\n"
   ]
  },
  {
   "cell_type": "markdown",
   "metadata": {},
   "source": [
    "### Question 2 (2 points)\n",
    "\n",
    "#### In reality, shear stresses are not the only stresses acting on the lap joint. Due to eccentricity, another type of stress occurs which will lower the maximum carrying capacity. Elaborate on this type of stress and why it affects the maximum load that can be carried."
   ]
  },
  {
   "cell_type": "markdown",
   "metadata": {},
   "source": [
    "Answer:"
   ]
  },
  {
   "cell_type": "markdown",
   "metadata": {},
   "source": [
    "### Question 3 (2 points)\n",
    "\n",
    "#### Explain how step joints and scarf joints help in increasing the maximum carrying load, compared to single lap joints. Do this by globally analyzing the differences between the 3 joint types, and how these differences result in different stresses."
   ]
  },
  {
   "cell_type": "markdown",
   "metadata": {},
   "source": [
    "Answer:"
   ]
  },
  {
   "cell_type": "markdown",
   "metadata": {},
   "source": [
    "### Question 4 (5 points)\n",
    "\n",
    "#### Question 4.1: The number of steps $n$ in a step joint has an effect on the shear-stress distribution in the bonded part. Write a function that takes the number of steps of the step joint as input, and returns the stress distribution over the entire bond length. Assume the steps are always equally spaced.\n",
    "#### Show your results by creating a plot below, which shows $\\tau$ over the given length of 30mm for different values of $n$. Assume the same material properties as in Question 1 and apply the Klein model (or other analytical models)."
   ]
  },
  {
   "cell_type": "code",
   "execution_count": 2,
   "metadata": {},
   "outputs": [],
   "source": []
  },
  {
   "cell_type": "markdown",
   "metadata": {},
   "source": [
    "#### Question 4.2: What happens when $n$ approaches infinity? Plot this using your code from question 4.1. Is there another type of joint that it would resemble? "
   ]
  },
  {
   "cell_type": "code",
   "execution_count": 2,
   "metadata": {},
   "outputs": [],
   "source": []
  },
  {
   "cell_type": "markdown",
   "metadata": {},
   "source": []
  },
  {
   "cell_type": "markdown",
   "metadata": {},
   "source": [
    "### Question 5 (6 points)\n",
    "\n",
    "#### Question 5.1: Consider the scarf joint from the image below. Write a function that takes angle $\\alpha$ as input and returns the shear- and tensile stresses in the adhesive. Then, use your function to plot the shear- and tensile stresses vs $\\alpha$ for $0^{\\circ} <\\alpha<90 ^{\\circ} $\n",
    "\n",
    "#### The thickness $t$ of the part is 20 mm, the width $b$ is 30 mm. The part is subjected to a tensile force of 10 kN."
   ]
  },
  {
   "cell_type": "markdown",
   "metadata": {},
   "source": [
    "![title](scarfjoint.png)"
   ]
  },
  {
   "cell_type": "code",
   "execution_count": 2,
   "metadata": {},
   "outputs": [],
   "source": []
  },
  {
   "cell_type": "code",
   "execution_count": 2,
   "metadata": {},
   "outputs": [],
   "source": []
  },
  {
   "cell_type": "markdown",
   "metadata": {},
   "source": [
    "#### Question 5.2: At which value for $\\alpha$ does the tensile stress peak? At which value for $\\alpha$ does the shear stress peak? Explain why this makes sense. Plot a graph, which contains bond-area vs. $\\alpha$, to support your explanation."
   ]
  },
  {
   "cell_type": "code",
   "execution_count": 2,
   "metadata": {},
   "outputs": [],
   "source": []
  },
  {
   "cell_type": "markdown",
   "metadata": {},
   "source": []
  },
  {
   "cell_type": "markdown",
   "metadata": {},
   "source": []
  },
  {
   "cell_type": "markdown",
   "metadata": {},
   "source": [
    "## Joining of thermoplastic composite parts"
   ]
  },
  {
   "cell_type": "markdown",
   "metadata": {},
   "source": [
    "#### As introduced during lectures, the main advantages of TPC joining via fusion bonding are potential weight reduction, avoidance of drilling induced delaminations and stress concentrations, less labour compared to mechanical fastening. Compared to adhesive bonding, surface treatments are not needed and the process of joining can be sped up dramatically. \n",
    "#### The process of fusion bonding entails the use of localized heating in specific areas intended for bonding, followed by a cool down under the application of pressure. After consolidation, this process creates a weld between the surfaces with no visible weld line. To achieve a successful bond, it is necessary to heat the interface above certain temperature thresholds: the glass transition temperature (Tg) for amorphous polymers and the melting temperature (Tm) for semi-crystalline polymers. Additionally, throughout this bonding procedure, it is crucial to ensure that the maximum temperature does not exceed the polymer's degradation point"
   ]
  },
  {
   "cell_type": "markdown",
   "metadata": {},
   "source": [
    "#### Different phases are encountered during TPC fusion bonding: intimate contact, autohesion and reptation, for which appropriate temperature, time and pressure are needed to properly consolidate the joint.\n",
    "#### Autohesion, specifically, refers to the diffusion of polymer chains between contacted surfaces. A necessary and critical step in this is assuring intimate contact of the surfaces to bond. The degree of intimate contact is influenced by factors such as applied pressure, current temperature, surface texture, and polymer viscosity.\n",
    "#### It is obtained through the following, simplified equation (source: Manufacturing Process Models for Thermoplastic Composites, Susan C. Mantell and George S. Springer, Journal of Composite Materials 1992 26:16, 2348-2377):\n",
    "$$D_{ic} = R_c \\cdot [\\int_{0}^{t_p} \\frac{p}{\\mu} \\,dt ] ^{0.2} $$\n",
    "#### Where the parameter $R_c$ is the initial surface roughness of the ply (geometric factor obtained through fitting), time $t$ is expressed in seconds, $p$ is the applied pressure ($Pa$) and $\\mu$ (viscosity of the resin, $Pa \\cdot s$) which could follow an Arrhenius type relation with temperature: $\\mu = A \\cdot exp(\\frac{B}{T})$ . The parameters A and B represent empirical constants, while T is the applied temperature, expressed in $K$.\n"
   ]
  },
  {
   "cell_type": "markdown",
   "metadata": {},
   "source": [
    "### Question 6 (3 points)\n",
    "#### In this question an APC-2/AS4 (Aromatic Polymer Composite) thermoplastic composite tape, provided by Solvay, has been taken into consideration. More specifically, a standard modulus continuous carbon fiber (12K) and PEEK (polyetheretherketone) impregnated prepreg.\n",
    "#### The following constants are given for this material: A = 643 Ns/m^2, B = 4367 K. In the following questions we will oversimplify the use of the equation by keeping the surface roughness and pressure constant during the heating process and we will only consider the heating process. Assume $R_c = 0.29$ (or specify a more suitable value derived from assumptions or from a source you found, but in any case specify any assumptions and/or resource you may be using). Use an appropriate timescale for the graphs.\n",
    "#### Question 6.1: Using the provided information, calculate the degree of intimate contact $D_{ic}$ for three different applied pressures: 0.5 MPa, 1 MPa, 1.5 MPa at a constant temperature T=300°C, applied for 430 s.\n",
    "#### Question 6.2: Using the provided information, calculate the degree of intimate contact $D_{ic}$ for two different cure cycles: from room temperature up to 250°C, with a heating rate of 1 °C/min and a second one from RT to 350°C with a heating rate of 10 °C/min.\n",
    "#### Note: Assume $R_c = 0.29$ (or specify a more suitable value derived from assumptions or from a source you found, but in any case specify any assumptions and/or resource you may be using). The maximum reachable value for degree of intimate contact is 1. Use an appropriate timescale for the graphs."
   ]
  },
  {
   "cell_type": "markdown",
   "metadata": {},
   "source": []
  },
  {
   "cell_type": "code",
   "execution_count": 2,
   "metadata": {},
   "outputs": [
    {
     "data": {
      "image/png": "[encoded data removed]",
      "text/plain": [
       "<Figure size 640x480 with 1 Axes>"
      ]
     },
     "metadata": {},
     "output_type": "display_data"
    },
    {
     "name": "stdout",
     "output_type": "stream",
     "text": [
      "Final value of degree of intimate contact for 0.5 bar: 0.8043402061960134\n",
      "Final value of degree of intimate contact for 1 bar: 0.9239442717153364\n",
      "Final value of degree of intimate contact for 1.5 bar: 1.0019914808350987\n"
     ]
    }
   ],
   "source": [
    "A = 643\n",
    "B = 4367\n",
    "Rc = 0.29\n",
    "\n",
    "def degreeofIC1(p, t1, T):\n",
    "    integrand = lambda tau: p / (A * np.exp(B / T))\n",
    "    result, _ = quad(integrand, 0, t1)\n",
    "    Dic1 = Rc * (result ** 0.2)\n",
    "    return Dic1\n",
    "\n",
    "p1 = 0.5 * 10**6\n",
    "p2 = 1 * 10**6\n",
    "p3 = 1.5 * 10**6\n",
    "T1 = 300 + 273.15\n",
    "time1_values = np.linspace(0, 430, 430)  # Increase the number of points for a smoother plot\n",
    "\n",
    "Dic1_values_1 = []\n",
    "Dic1_values_2 = []\n",
    "Dic1_values_3 = []\n",
    "\n",
    "for t1 in time1_values:\n",
    "    Dic1_values_1.append(degreeofIC1(p1, t1, T1))\n",
    "    Dic1_values_2.append(degreeofIC1(p2, t1, T1))\n",
    "    Dic1_values_3.append(degreeofIC1(p3, t1, T1)) \n",
    "                                 \n",
    "plt.plot(time1_values, Dic1_values_1, label='p=0.5')\n",
    "plt.plot(time1_values, Dic1_values_2, label='p=1')\n",
    "plt.plot(time1_values, Dic1_values_3, label='p=1.5')                                 \n",
    "plt.xlabel('Time [s]')\n",
    "plt.ylabel('Degree of intimate contact')\n",
    "plt.legend()\n",
    "plt.show()\n",
    "print(\"Final value of degree of intimate contact for 0.5 bar:\" ,Dic1_values_1[429])\n",
    "print(\"Final value of degree of intimate contact for 1 bar:\" ,Dic1_values_2[429])\n",
    "print(\"Final value of degree of intimate contact for 1.5 bar:\" ,Dic1_values_3[429])"
   ]
  },
  {
   "cell_type": "code",
   "execution_count": 3,
   "metadata": {},
   "outputs": [
    {
     "name": "stderr",
     "output_type": "stream",
     "text": [
      "C:\\Users\\joale\\AppData\\Local\\Temp\\ipykernel_19808\\1530285463.py:7: RuntimeWarning: overflow encountered in exp\n",
      "  integrand = lambda tau: p / (A * np.exp(B / (x*tau / 60)))\n",
      "C:\\Users\\joale\\AppData\\Local\\Temp\\ipykernel_19808\\1530285463.py:7: RuntimeWarning: overflow encountered in double_scalars\n",
      "  integrand = lambda tau: p / (A * np.exp(B / (x*tau / 60)))\n"
     ]
    },
    {
     "data": {
      "image/png": "[encoded data removed]",
      "text/plain": [
       "<Figure size 640x480 with 1 Axes>"
      ]
     },
     "metadata": {},
     "output_type": "display_data"
    },
    {
     "name": "stdout",
     "output_type": "stream",
     "text": [
      "Value of degree of intimate contact for 1 ºC/min at 250 ºC: 0.09445392283399187\n",
      "Value of degree of intimate contact for 10 ºC/min at 350 ºC: 0.22625289473398444\n"
     ]
    }
   ],
   "source": [
    "A = 643\n",
    "B = 4367\n",
    "Rc = 0.29\n",
    "\n",
    "def degreeofIC2(x, t2):\n",
    "    p = 1 * 10**6\n",
    "    integrand = lambda tau: p / (A * np.exp(B / (x*tau / 60)))\n",
    "    result, _ = quad(integrand, 0, t2)\n",
    "    Dic2 = Rc * (result ** 0.2)\n",
    "    return Dic2\n",
    "\n",
    "time2_values = np.linspace(1, 13500, 13500)\n",
    "time3_values = np.linspace(1, 1950, 1950)\n",
    "\n",
    "Dic2_values_1 = []\n",
    "Dic2_values_2 = []\n",
    "\n",
    "for t2 in time2_values:\n",
    "    Dic2_values_1.append(degreeofIC2(1, t2))\n",
    "    \n",
    "for t2 in time3_values:\n",
    "    Dic2_values_2.append(degreeofIC2(10, t2))\n",
    "    \n",
    "plt.plot(time2_values, Dic2_values_1, label='dT = 1$^\\circ$C/ min')\n",
    "plt.plot(time3_values, Dic2_values_2, label='dT = 10$^\\circ$C/ min')\n",
    "plt.xlabel('Time [s]')\n",
    "plt.ylabel('Degree of intimate contact')\n",
    "plt.legend()\n",
    "plt.show()\n",
    "print(\"Value of degree of intimate contact for 1 ºC/min at 250 ºC:\" ,Dic2_values_1[13499])\n",
    "print(\"Value of degree of intimate contact for 10 ºC/min at 350 ºC:\" ,Dic2_values_2[1949])"
   ]
  },
  {
   "cell_type": "markdown",
   "metadata": {},
   "source": [
    "### Question 7 (2 points)\n",
    "\n",
    "#### Mechanical properties (such as fracture toughness and strength at failure) of the resulting joint are highly influenced by the parameters applied during consolidation. Reflect on the influence of time, temperature and applied pressure on mechanical properties of co-consolidated parts.\n",
    "\n"
   ]
  },
  {
   "cell_type": "markdown",
   "metadata": {},
   "source": [
    "Short consolidation times can lead to incomplete bonding between the parts as they are not sufficient for the molecular diffusion to occur totally. Low temperatures can also result in incomplete bonding because the energy provided for the molecular diffusion to occur may not be enough. On the other hand, excessively high temperatures may degradate the polymer composites. Insufficient pressure may lead to poor contact between the surfaces which weakens the joint and also results in the presence of voids. However, excessively high pressure can damage the materials being consolidated. For all these reasons, it is crucial to reach optimal values for the three parameters. A high degree of intimate contact with better interfacial contact and less voids and a better molecular entanglement result in consolidated parts with higher fracture toughness and strength at failure."
   ]
  }
 ],
 "metadata": {
  "kernelspec": {
   "display_name": "Python 3 (ipykernel)",
   "language": "python",
   "name": "python3"
  },
  "language_info": {
   "codemirror_mode": {
    "name": "ipython",
    "version": 3
   },
   "file_extension": ".py",
   "mimetype": "text/x-python",
   "name": "python",
   "nbconvert_exporter": "python",
   "pygments_lexer": "ipython3",
   "version": "3.10.8"
  },
  "latex_envs": {
   "LaTeX_envs_menu_present": true,
   "autoclose": false,
   "autocomplete": true,
   "bibliofile": "biblio.bib",
   "cite_by": "apalike",
   "current_citInitial": 1,
   "eqLabelWithNumbers": true,
   "eqNumInitial": 1,
   "hotkeys": {
    "equation": "Ctrl-E",
    "itemize": "Ctrl-I"
   },
   "labels_anchors": false,
   "latex_user_defs": false,
   "report_style_numbering": false,
   "user_envs_cfg": false
  }
 },
 "nbformat": 4,
 "nbformat_minor": 2
}
