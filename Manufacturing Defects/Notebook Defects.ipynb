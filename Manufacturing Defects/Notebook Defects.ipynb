{
 "cells": [
  {
   "cell_type": "markdown",
   "id": "bfb90946",
   "metadata": {},
   "source": [
    "# Manufacturing defects (30 points)"
   ]
  },
  {
   "cell_type": "code",
   "execution_count": 1,
   "id": "8eadfbef-4b4a-4bda-a03d-415e28e76bc5",
   "metadata": {},
   "outputs": [],
   "source": [
    "# # Run once to install the correct pacakge\n",
    "# import sys\n",
    "# !{sys.executable} -m pip install opencv-python"
   ]
  },
  {
   "cell_type": "code",
   "execution_count": 4,
   "id": "e42355d5",
   "metadata": {},
   "outputs": [],
   "source": [
    "#import packages here\n",
    "import cv2\n",
    "import numpy as np\n",
    "import matplotlib.pyplot as plt"
   ]
  },
  {
   "cell_type": "markdown",
   "id": "2f1e6563",
   "metadata": {},
   "source": [
    "#### In previous notebooks you have already explored the importance of manufacturing parameters and curing cycles, specifically the Cure kinetics and Rheokinetics of composite production. The manufacturing process plays a crucial role when we try to guarantee a predictable part quality.\n",
    "\n",
    "#### In this notebook you will be working on cases for which manufacturing did not reach the expected and predicted quality or, in other words, manufacturing related defects have been detected.\n",
    "\n",
    "#### Understanding defects is an important part of composite manufacturing. Defects can (and will) occur during most manufacturing processes. You will learn to recognise defects, assess data for components with and without defects, how to deal with shrinkage of polymeric matrices, how to use image analysis to assess defects in fabric weaves, and reflect on the consequences of defects."
   ]
  },
  {
   "cell_type": "markdown",
   "id": "960b3b8c",
   "metadata": {},
   "source": [
    "#### Defects in composites can be generally classified as one of the types shown in the graph (Figure 1) below."
   ]
  },
  {
   "cell_type": "markdown",
   "id": "b6cc3bb1",
   "metadata": {
    "is_executing": true
   },
   "source": [
    "<img src=\"defect_types.png\" width=\"500\" height=\"340\">\n",
    "\n",
    "Figure 1"
   ]
  },
  {
   "cell_type": "markdown",
   "id": "2d0f6663",
   "metadata": {},
   "source": [
    "## Question 1 (3 points)\n",
    "\n",
    "#### A case study will be used in this question to start approaching the problem of defects. In this case you will be considering the X-33 liquid hydrogen (LH2) tank. During a protoflight structural test in November 1999, this tank failed catastrophically as can be seen below.\n",
    "\n",
    "<img src=\"x33gobrrr.png\" width=\"800\" height=\"500\">\n",
    "\n",
    "Figure 2\n",
    "\n",
    "##### From: NASA Langley Research Center, Hampton, Virginia, 23681, U.S.A.\n",
    "\n",
    "#### As a first step, please read carefully the article provided with this notebook:\n",
    "#### Ransom, Jonathan & Glaessgen, Edward & Raju, Ivatury & Knight, Norman & Reeder, James. (2008). Lessons Learned from Recent Failure and Incident Investigations of Composite Structures. 10.2514/6.2008-2317."
   ]
  },
  {
   "cell_type": "markdown",
   "id": "8773a69c",
   "metadata": {},
   "source": [
    "#### Question 1.1: For the case mentioned above, explain what the initial type of defect was, and why this is disadvantageous for composite parts in general. Refer to Figure 1 when writing in your answer.\n"
   ]
  },
  {
   "cell_type": "markdown",
   "id": "b60fd22c",
   "metadata": {},
   "source": [
    "The defect described in the paper was the contamination of the facesheet-core intercate by a piece of teflon tape. According to fifgure 1, this type of defect is classified as External --> Foreign Objects.\n",
    "This type of defect is disadvantageous for composite parts, as any item that should hnto be within the material, has a chance of causing delamination of the composite layers it lies between. In this case, the teflon did not adhere well to either layer, and started the process of delamination between the layers, eventually leading to catastrophic failure."
   ]
  },
  {
   "cell_type": "markdown",
   "id": "1d2759ee",
   "metadata": {},
   "source": [
    "#### Question 1.2: What could be the root causes of the initial defects? Suggest a modification to the manufacturing process to ensure that a new part produced through this method is less likely to exhibit the previously identified defects."
   ]
  },
  {
   "cell_type": "markdown",
   "id": "e9955a19730fc73c",
   "metadata": {},
   "source": [
    "The teflon tape that wasd found between the layers was found to be a discard of the manufacturing process. In order to reduce the chance of such a defect, either the usaghe of teflon tape should be removed, or an accounting should be kept of every piece of teflon tape. If there is then a piece misssing, it must be accounted for before continuing with the process.\n",
    "Additionally, for sections of teflon tape, or other materials that need to be cut to size, we can insure that the cutting itself occurs at a different location to the composite layering. In this way, the chance of very small foreign objects is reduced."
   ]
  },
  {
   "cell_type": "markdown",
   "id": "31c360d8",
   "metadata": {},
   "source": [
    "## Question 2 (2 points)\n",
    "## Free shrinkage and residual stresses"
   ]
  },
  {
   "cell_type": "markdown",
   "id": "25764278",
   "metadata": {},
   "source": [
    "### Additional defects that can occur in composites include micro-cracks, typically emerging from the combination of residual stresses with thermal cycling or mechanical loading. The primary cause of residual stresses at a micro-mechanical level is the disparity in shrinkage between the fibers and the matrix. Specifically, the polymer matrix tends to undergo considerably more shrinkage (dictated by the coefficient of thermal expansion, CTE) during consolidation and cooling compared to the contracting fibers.\n",
    "\n",
    "<img src=\"shrinkage UD.png\" width=\"600\" height=\"400\">\n",
    "\n",
    "Figure 3"
   ]
  },
  {
   "cell_type": "markdown",
   "id": "12c1df22",
   "metadata": {},
   "source": [
    "#### In this question we will work towards identifying the differences in shrinkage characteristics of two different thermoplastics (an amorphous and a semi-crystalline polymer). Draw typical storage modulus vs. temperature graphs for both categories. Display them in two different graphs. Explain the evolution of mechanical properties, including: how the Young's modulus evolves as a function of temperature, identification of relevant temperature points along the curve and what they represent."
   ]
  },
  {
   "cell_type": "markdown",
   "id": "ffca2ba8",
   "metadata": {},
   "source": [
    "## Question 3 (6 points)\n",
    "#### When dealing with TP consolidation cycles, understanding shrinkage and the potential occurrence of residual stresses in a part is crucial when dealing with the design of consolidation cycles for thermoplastic composites.\n",
    "\n",
    "#### For the production and autoclave consolidation of a 1 m wide and 2 m long panel using a single unidirectional lamina, two carbon fibre thermoplastic prepregs are under consideration: one with a Polycarbonate matrix and the other with a Polyamide matrix, both utilizing T1000 UD as the reinforcement. It concerns a zero-bleed prepreg with a fibre volume fraction of 55%. The consolidation cycle involves a 200°C dwell, maintained for 1 hour, followed by a cooling phase at 2°C/min until reaching room temperature (20°C). The consolidation cycle is shown in Figure 4 (the heating phase is not shown, as it is not relevant for this question). Equations and assumption that will help you answer the questions, are given below.\n",
    "\n",
    "#### The longitudinal coefficient of linear thermal expansion for a composite ply can be calculated/estimated as follows: \n",
    "$$\\alpha_{l} = \\frac{(1-\\nu_{f})E_{r}\\alpha_{r}+ \\nu_{f}E_{lf} \\alpha_{lf}}{(1-\\nu_{f})E_{r} +\\nu_{f}E_{lf}}$$\n",
    "#### The transverse coefficient of linear thermal expansion for a composite ply can be calculated/estimated as follows:\n",
    "$$\\alpha_{t} = (1-\\nu_{f})\\alpha_{r}+ \\nu_{f}\\alpha_{tf} +(1-\\nu_{f})\\alpha_{r}\\nu_{r} +\\nu_{12f}\\alpha_{lf}\\nu_{f} -\\nu_{12}\\alpha_{l}$$\n",
    "\n",
    "#### Where $\\nu_{f}$ represents fibre volume content, $E_{r}$ [GPa] Young's modulus of the matrix, $\\nu_{r}$ the Poisson ratio of the matrix, $\\alpha_{r}$ [1/°C] coefficient of linear thermal expansion of the matrix, $\\alpha_{lf}$ [1/°C] and $\\alpha_{tf}$ [1/°C] thermal expansion coefficients (CLTE) of fibres in the longitudinal and transverse direction, $E_{lf}$ [GPa] the longitudinal Young's modulus of the fibres, $\\nu_{12}$ the in-plane Poisson ratio of the lamina and $\\nu_{12f}$ Poisson’s ratio of the fibres.\n",
    "\n",
    "#### The thermal strain (in longitudinal and transverse direction) can be calculated as follows: \n",
    "#### $$\\epsilon = \\int_{0}^{t} \\alpha(t)\\Delta Tdt$$"
   ]
  },
  {
   "cell_type": "markdown",
   "id": "7c5a2ea9fb71b753",
   "metadata": {},
   "source": [
    "| Matrix        | Young's modulus [GPa] | Poisson ratio | CLTE [1/°C]          |\n",
    "|---------------|-----------------------|---------------|----------------------|\n",
    "| Polycarbonate | 1.4                   | 0.37          | $70.2 \\cdot 10^{-6}$ |\n",
    "| Polyamide 6   | 3                     | 0.39          | $85 \\cdot 10^{-6}$   |"
   ]
  },
  {
   "cell_type": "markdown",
   "id": "985216440b629d15",
   "metadata": {},
   "source": [
    "<img src=\"Cure cycle.jpg\" width=\"1000\" height=\"600\">\n",
    "\n",
    "Figure 4"
   ]
  },
  {
   "cell_type": "markdown",
   "id": "91ade7cb64ffea9d",
   "metadata": {},
   "source": [
    "#### The following assumptions are made:\n",
    "#### - The lamina undergoes free shrinkage\n",
    "#### - The properties of the resin and fibers, including volume fraction (vf), Poisson's ratio, and coefficient of linear thermal expansion (CLTE), are non-temperature dependent. The E-modulus for the fibers is also considered non-temperature dependent. However, the E-modulus of the thermoplastic resin changes throughout the consolidation cycle. Identify, provide and use the relevant properties for analysis.\n",
    "#### - Poisson ratio of the lamina can be derived using the rule of mixtures\n"
   ]
  },
  {
   "cell_type": "markdown",
   "id": "d8577a2601eb5980",
   "metadata": {},
   "source": [
    "#### Question 3.1: Given the provided equations, material properties, consolidation cycle, and the listed assumptions, please calculate:\n",
    "#### - the composite material's linear coefficient of thermal expansion (in longitudinal and transverse direction).\n",
    "#### - the expected strain after reaching room temperature in both length and width direction of the panel\n",
    "#### - the percentage of shrinkage in length and width direction of the panel"
   ]
  },
  {
   "cell_type": "code",
   "execution_count": null,
   "id": "1c309355",
   "metadata": {},
   "outputs": [],
   "source": []
  },
  {
   "cell_type": "markdown",
   "id": "38b2dd14",
   "metadata": {},
   "source": [
    "#### Question 3.2: Provide insights on the outcomes of question 3.1 from:\n",
    "#### - a composites standpoint: this should encompass expectations regarding the direction of highest strain or shrinkage, considerations about the acceptability of dimensional changes, and whether adjustments in the design would be necessary to accommodate these variations. \n",
    "#### - a matrix point of view: Offer commentary on the differences between the two thermoplastic resin materials (Polycarbonate and Polyamide), elucidating the reasons behind these differences in terms of their chemical composition, molecular structure, and thermal behaviors and which matrix option you would consider yielding the best mechanical properties or dimensional stability. \n"
   ]
  },
  {
   "cell_type": "markdown",
   "id": "88d2c5f2ec66f688",
   "metadata": {},
   "source": [
    "Comment:"
   ]
  },
  {
   "cell_type": "markdown",
   "id": "35a34500",
   "metadata": {},
   "source": [
    "## Question 4 (2 points)\n",
    "#### Residual stresses may emerge during composite manufacturing due to differential strains between the composite part and the tooling. This issue arises from the coefficient of thermal expansion (CTE) mismatch between the part and the mould/tooling. Residual stresses may potentially lead to lower load carrying capabilities, cracks and areas with resin-rich or resin-starved characteristics if not appropriately addressed. \n",
    "\n",
    "#### In the previous question, we assumed free shrinkage of the part. When shrinkage of a composite part during manufacturing is constrained by a material (with a different CTE), this shrinkage can be transformed into stress.\n",
    "\n",
    "#### To effectively design a mold for the panel considered in question 3, three potential materials are under consideration: Aluminum 6061-T6, Invar 36, and CFRP composite. It is assumed that the mold is uniformly heated and monolithic throughout the process.\n",
    "\n",
    "#### Find the coefficients of thermal expansion for this three possible mould materials (provide your sources) and discuss which one will be the most suitable option for the Polycarbonate and Polyamide CF reinforced parts from question 3.\n",
    "#### You may also refer to this article: Zobeiry N, Park J, Poursartip A. An infrared thermography-based method for the evaluation of the thermal response of tooling for composites manufacturing. Journal of Composite Materials. 2019;53(10):1277-1290.\n",
    "\n"
   ]
  },
  {
   "cell_type": "markdown",
   "id": "4cb6068f",
   "metadata": {},
   "source": [
    "<img src=\"Mould CTE.PNG\" width=\"800\" height=\"400\">\n",
    "\n",
    "Figure 5: distortion due to shear interaction at tool interface\n"
   ]
  },
  {
   "cell_type": "markdown",
   "id": "c0c17668be8f16bd",
   "metadata": {},
   "source": []
  },
  {
   "cell_type": "markdown",
   "id": "1ab030ed",
   "metadata": {},
   "source": [
    "Comment:"
   ]
  },
  {
   "cell_type": "markdown",
   "id": "a2706554",
   "metadata": {},
   "source": [
    "## Voids"
   ]
  },
  {
   "cell_type": "markdown",
   "id": "34cea310",
   "metadata": {},
   "source": [
    "#### Voids, one of the most extensively examined categories of manufacturing defects, frequently arise during the fabrication of fibre-reinforced composites. Given their significant impact on the physical and thermomechanical properties of the laminates, they have been subject to thorough investigation. In this notebook the following aspects will be taken into consideration: : the origin of voids, the quantification of voids through image analysis and the implications on the mechanical performance of the composite structure.\n",
    "\n",
    "#### The graph shown below in Figure 6 (from Processing of Polymer Matrix Composites, P.K. Mallick) shows the correlation between shear strength, void content and autoclave cure cycle. The quality of advanced composites and their mechanical properties are strongly influenced by the void volume content. Therefore, solid knowledge on pressure, flow, temperature and material behaviour is required to properly design manufacturing processes."
   ]
  },
  {
   "cell_type": "markdown",
   "id": "20560476c89ff802",
   "metadata": {},
   "source": [
    "<img src=\"shear vs. voids.png\" width=\"600\" height=\"800\">\n",
    "\n",
    "Figure 6"
   ]
  },
  {
   "cell_type": "markdown",
   "id": "56c24eaaa1bc12e3",
   "metadata": {},
   "source": [
    "## Question 5 (5 points)\n",
    "\n",
    "<img src=\"Capillary number.png\" width=\"1100\" height=\"400\">\n",
    "\n",
    "Figure 7\n",
    "\n",
    "#### Use the concept of capillary number (exemplified in Figure 7 above) to explain the physical difference between capillary flow and viscous flow in a fibrous medium.\n",
    "#### The flow properties influence the final mechanical part properties. How? Include in your answer which kind of flow would be preferred and which type of defects would occur (and where in your fibrous medium).\n"
   ]
  },
  {
   "cell_type": "markdown",
   "id": "db979d2cb1cedf68",
   "metadata": {},
   "source": []
  },
  {
   "cell_type": "markdown",
   "id": "be7b4373",
   "metadata": {},
   "source": [
    "## Question 6 (8 points)\n",
    "\n",
    "## Image Analysis\n",
    "\n",
    "#### Image analysis is useful when dealing with (prepreg) woven textiles, particularly for fiber volume content calculations, identifying waviness, and detecting defects. It also plays a crucial role in quality assurance by identifying and characterizing defects such as voids, wrinkles, and variations in resin distribution of the composite products. These defects can substantially affect the structural integrity of the final composite product. \n",
    "\n",
    "#### Image analysis techniques also add a quantitative dimension to defect assessment, offering measurements of defect size, shape, and distribution. This quantitative data is invaluable for optimising manufacturing processes and upholding stringent quality control standards.\n",
    "\n",
    "#### A top view (2D) picture has been extracted from a 3D image of a woven fabric laminate and reported below.\n",
    "#### The darker regions in the image can be identified as voids. Given the critical requirement for aerospace structures to maintain an acceptable volumetric void content of 1-2%, it becomes crucial to quantify void content rather than relying on qualitative observations of the image.\n",
    "#### Question 6.1: Write a script to calculate the void content of the image provided. Then, comment on whether this percentage is acceptable or not. "
   ]
  },
  {
   "cell_type": "markdown",
   "id": "5b94415b",
   "metadata": {},
   "source": [
    "<img src=\"slice_0130.jpeg\" width=\"700\" height=\"700\">\n",
    "\n",
    "Figure 8"
   ]
  },
  {
   "cell_type": "code",
   "execution_count": 22,
   "id": "e158a221",
   "metadata": {},
   "outputs": [
    {
     "name": "stdout",
     "output_type": "stream",
     "text": [
      "The void fraction is  0.740658578856157  %\n"
     ]
    }
   ],
   "source": [
    "img = cv2.imread('slice_0130.jpeg')\n",
    "grey = cv2.cvtColor(img, cv2.COLOR_BGR2GRAY)\n",
    "thresh,bin = cv2.threshold(grey,80,255,cv2.THRESH_BINARY)\n",
    "width = img.shape[1]\n",
    "height = img.shape[0]\n",
    "\n",
    "#Resize and plot to view the image\n",
    "resized = cv2.resize(bin,(800,800))\n",
    "cv2.imshow(\"Image\", resized)\n",
    "cv2.waitKey(0)\n",
    "cv2.destroyAllWindows()\n",
    "\n",
    "# Use original image for further analysis\n",
    "void_fraction = (1-np.sum(bin)/(np.size(bin)*255))*100\n",
    "print(\"The void fraction is \",void_fraction,\" %\")\n"
   ]
  },
  {
   "cell_type": "markdown",
   "id": "55acc843",
   "metadata": {},
   "source": [
    "Comment:\n",
    "The resulting void percentage is less than 1%. According to the information provided above, this falls within the acceptable range of less than 1-2% of voids. \n",
    "However, the above statement is somewhat ambigious, and hence, if the acceptable range is between 1-2%, this composite has too little voids."
   ]
  },
  {
   "cell_type": "markdown",
   "id": "14b851cc",
   "metadata": {},
   "source": [
    "#### Question 6.2: Now expand your previous code and apply the same technique to estimate the overall void volume content (in 3D) of the laminate. The folder provided with this notebook contains 107 slices obtained with microtomography. Using your algorithm from question 6.1 calculate the void content of each slice and report all the values in a single graph as a function of the slice number. Finally, calculate the average void content (in 3D) and comment on the difference/similarity with your answer in question 6.1. \n",
    "#### Please also comment on the applicability of 2D void content measurements to represent the overall void content of a product."
   ]
  },
  {
   "cell_type": "code",
   "execution_count": 11,
   "id": "84f05522-3e6f-493f-b580-1fd8f0adbcdf",
   "metadata": {},
   "outputs": [
    {
     "data": {
      "image/png": "[encoded data removed]",
      "text/plain": [
       "<Figure size 640x480 with 1 Axes>"
      ]
     },
     "metadata": {},
     "output_type": "display_data"
    },
    {
     "name": "stdout",
     "output_type": "stream",
     "text": [
      "The average void fraction is  0.8670950650678211  %\n"
     ]
    }
   ],
   "source": [
    "void_list = []\n",
    "for i in range(47,154):\n",
    "    if i>= 100:\n",
    "        filename = 'Slices/slice_0' + str(i) + '.jpeg'\n",
    "    else: \n",
    "        filename = 'Slices/slice_00' + str(i) + '.jpeg'\n",
    "    img = cv2.imread(filename)\n",
    "    grey = cv2.cvtColor(img, cv2.COLOR_BGR2GRAY)\n",
    "    thresh,bin = cv2.threshold(grey,80,255,cv2.THRESH_BINARY)\n",
    "    void_fraction = (1-np.sum(bin)/(np.size(bin)*255))*100\n",
    "    void_list.append(void_fraction)\n",
    "\n",
    "plt.plot(range(47,154),void_list)\n",
    "plt.xlabel('Slide number [-]')\n",
    "plt.ylabel('Void fraction [%]')\n",
    "plt.show()\n",
    "\n",
    "\n",
    "ave_void_fraction = np.mean(void_list)\n",
    "print(\"The average void fraction is \",ave_void_fraction,\" %\")"
   ]
  },
  {
   "cell_type": "markdown",
   "id": "739ccd46-3e98-4606-8978-84308df95de1",
   "metadata": {},
   "source": [
    "Comment on the applicability:\n",
    "We see large peaks in the void content per slide graph. This may be because some voids, expecially those seen as round bubbles, span multiple slices. Depending on the thickness of slices chosen, these bubble shaped bvoids may be over- or under-represented in the void content calculation. Additionally, when the thcikness of the slices is chosen to be too large, there may be voids that are not accounted for, as the depth resolution is not large enough. "
   ]
  },
  {
   "cell_type": "markdown",
   "id": "50debbbc0fc1d1ed",
   "metadata": {},
   "source": [
    "#### Question 6.3: What are the primary characterization techniques employed for void content evaluation? List three techniques. Could you outline the advantages and disadvantages of each technique? Additionally, which of these techniques, and any others covered in lectures, can be applied proactively (ex ante) to prevent void formation?"
   ]
  },
  {
   "cell_type": "markdown",
   "id": "bae19b8792a652d9",
   "metadata": {},
   "source": []
  },
  {
   "cell_type": "markdown",
   "id": "72cc8d07bc828d31",
   "metadata": {},
   "source": [
    "#### Question 6.4: Image analysis on the image provided above (Figure 8, question 6.1) can also be useful to obtain an estimation of fibre volume fraction and matrix content.\n",
    "#### To do this, first obtain and display the histogram of the woven fabric laminate, manipulate the initial image to obtain a better thresholding and describe what you did in terms of manipulation of the image, display the newly obtained histogram and then use this data to quantify the fibre and matrix content for the image provided.\n",
    "#### Finally, comment on the fibre volume content you obtained."
   ]
  },
  {
   "cell_type": "code",
   "execution_count": 27,
   "id": "f8802381-0f0f-4803-a872-d4e178f1716d",
   "metadata": {},
   "outputs": [
    {
     "data": {
      "image/png": "[encoded data removed]",
      "text/plain": [
       "<Figure size 640x480 with 1 Axes>"
      ]
     },
     "metadata": {},
     "output_type": "display_data"
    }
   ],
   "source": [
    "img = cv2.imread('slice_0130.jpeg')\n",
    "grey = cv2.cvtColor(img, cv2.COLOR_BGR2GRAY)\n",
    "hist = cv2.calcHist(grey, channels=[0], mask=None, histSize=[256], ranges=[0,256])\n",
    "plt.plot(hist) \n",
    "plt.show()"
   ]
  },
  {
   "cell_type": "code",
   "execution_count": 34,
   "id": "c00592d4-d8a1-43ce-bf5d-27be089fb2f4",
   "metadata": {},
   "outputs": [
    {
     "data": {
      "image/png": "[encoded data removed]",
      "text/plain": [
       "<Figure size 640x480 with 1 Axes>"
      ]
     },
     "metadata": {},
     "output_type": "display_data"
    },
    {
     "name": "stdout",
     "output_type": "stream",
     "text": [
      "The fibre volume fraction is  30.905634507991525  %\n"
     ]
    }
   ],
   "source": [
    "threshold_value = 190\n",
    "thresh,bin = cv2.threshold(grey,threshold_value,255,cv2.THRESH_BINARY)\n",
    "\n",
    "resized = cv2.resize(bin,(800,800))\n",
    "cv2.imshow(\"Image\", resized)\n",
    "cv2.waitKey(0)\n",
    "cv2.destroyAllWindows()\n",
    "\n",
    "hist = cv2.calcHist(bin, channels=[0], mask=None, histSize=[256], ranges=[0,256])\n",
    "plt.plot(hist) \n",
    "plt.show()\n",
    "\n",
    "fibre_fraction = (np.sum(bin)/(np.size(bin)*255))*100\n",
    "print(\"The fibre volume fraction is \",fibre_fraction,\" %\")"
   ]
  },
  {
   "cell_type": "markdown",
   "id": "1d0ddb6df9e21835",
   "metadata": {},
   "source": [
    "Comment:\n",
    "\n",
    "The histogram was used to determine the thershold value to binarise the image and obtain the fibre volume content. It is not very clear in this image, but there should be two main peaks on the histogram; one for the fibres and one for the matrix. It was decided that in this example, the dip between the two barely visible peaks lies at approximately 190, hence this has been made the threshold.\n",
    "\n",
    "The histogram of the newly binarised image is displayed, and this shows the clear seperation made between the peaks. Note that with this method the voids and the matrix are grouped together.\n",
    "\n",
    "Lastly, the fibre volume content obtained, of 30%, is rather on thwe low end for polymer composites. It may be that the selection of the threshold value is not entirely correct and it should be chose lower. In reality, the test operator or composite designer should have some indication of what to expect from the composite, and a single slice is not a very reliable measurement for thw whole material. \n"
   ]
  },
  {
   "cell_type": "markdown",
   "id": "94a0029f7afb235e",
   "metadata": {},
   "source": [
    "## Question 7 (4 points)\n",
    "\n",
    "#### As it was mentioned at the beginning of the 'Voids' section, defects in composites have implications on the mechanical performance of the composite structure. In the next question, you will analyze two Force-Strain datasets for two similar samples. The samples are joined through continuous ultrasonic welding. Their cross-sectional micrographs are displayed below, and can be seen in Figure 9 and 10 respectively.\n",
    "<img src=\"SLS_yes.jpg\" width=\"400\" height=\"240\"> \n",
    "\n",
    "Figure 9\n",
    "\n",
    "<img src=\"SLS_no.jpg\" width=\"400\" height=\"240\">\n",
    "\n",
    "Figure 10\n",
    "#### Question 7.1: Examine Figure 9 and 10. One of these images shows a consolidated sample, the other one shows a defective sample. Please explain which figure belongs to which sample. Also provide a small discussion on the expected differences, and why these differences would occur."
   ]
  },
  {
   "cell_type": "markdown",
   "id": "5c1d82910a7b568",
   "metadata": {},
   "source": []
  },
  {
   "cell_type": "markdown",
   "id": "2aed85e66faa2b3f",
   "metadata": {},
   "source": [
    "#### Question 7.2: Attached are two datasets of Single Lap Shear tests, both with identical test settings. Each dataset contains the results of 5 samples. One of the datasets is derived from a reasonably well consolidated sample, while the other dataset coming from a defective sample. Plot and analyze the Stress-Strain graphs. Conclude which of the sets is of the defective sample, and explain the difference in plotted curves."
   ]
  },
  {
   "cell_type": "code",
   "execution_count": null,
   "id": "9d81feb141f2fa07",
   "metadata": {
    "ExecuteTime": {
     "end_time": "2023-11-27T08:18:21.835304400Z",
     "start_time": "2023-11-27T08:18:21.757190100Z"
    }
   },
   "outputs": [],
   "source": []
  },
  {
   "cell_type": "markdown",
   "id": "1b36245e73f4e1ab",
   "metadata": {},
   "source": [
    "#### Question 7.3: From your results of Q7.2, you should be able to derive that the elastic moduli are approximately similar for all samples. Explain why this is the case."
   ]
  },
  {
   "cell_type": "markdown",
   "id": "a156cd987c4f6db6",
   "metadata": {},
   "source": []
  }
 ],
 "metadata": {
  "kernelspec": {
   "display_name": "Python 3 (ipykernel)",
   "language": "python",
   "name": "python3"
  },
  "language_info": {
   "codemirror_mode": {
    "name": "ipython",
    "version": 3
   },
   "file_extension": ".py",
   "mimetype": "text/x-python",
   "name": "python",
   "nbconvert_exporter": "python",
   "pygments_lexer": "ipython3",
   "version": "3.10.9"
  }
 },
 "nbformat": 4,
 "nbformat_minor": 5
}
